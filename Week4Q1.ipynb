{
 "cells": [
  {
   "cell_type": "markdown",
   "metadata": {},
   "source": [
    "# Introduction and Business Problem\n",
    "### Introduction:\n",
    "\n",
    "The city of Cedar Rapids, IA is small with an area of 186.7 square mile area and for a person who is new to Cedar Rapids it can be confusing to figure out what restaurants are worth going to and where they are, how do you know what the best places are to going out for a meal.\n",
    "\n",
    "### Business Problem:\n",
    "\n",
    "I am going think like an entrepreneur and create a simple guide on where to eat based on Foursquare ratings, price, category and geographic location data for restaurants in Cedar Rapids. I will then cluster these restaurants based on their similarities so that a user can easily determine what type cuisine they are looking for and in what price range.\n",
    "\n",
    "## Data Required\n",
    "I will be using the Foursquare API to pull the following location data on restaurants in Cedar Rapids, IA:\n",
    "\n",
    "Venue Name\n",
    "Venue ID\n",
    "Venue Location\n",
    "Venue Category\n",
    "Rating\n",
    "Price\n",
    "Count of Likes\n",
    "Phrases\n",
    "\n",
    "## Data Gathering \n",
    "I will be doing the following:\n",
    "\n",
    "Get geolocator lattitude and longitude coordinates, list of all venues, venue IDs for Cedar Rapids, IA and Pull venue name, location, category, rating, price, count of likes for each venue\n"
   ]
  },
  {
   "cell_type": "code",
   "execution_count": null,
   "metadata": {},
   "outputs": [],
   "source": []
  }
 ],
 "metadata": {
  "kernelspec": {
   "display_name": "Python 3",
   "language": "python",
   "name": "python3"
  },
  "language_info": {
   "codemirror_mode": {
    "name": "ipython",
    "version": 3
   },
   "file_extension": ".py",
   "mimetype": "text/x-python",
   "name": "python",
   "nbconvert_exporter": "python",
   "pygments_lexer": "ipython3",
   "version": "3.7.3"
  }
 },
 "nbformat": 4,
 "nbformat_minor": 2
}
